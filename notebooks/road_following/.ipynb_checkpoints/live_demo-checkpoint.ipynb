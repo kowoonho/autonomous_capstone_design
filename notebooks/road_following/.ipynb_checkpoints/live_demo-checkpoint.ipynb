{
 "cells": [
  {
   "cell_type": "markdown",
   "metadata": {},
   "source": [
    "# Road Following - Live demo"
   ]
  },
  {
   "cell_type": "markdown",
   "metadata": {},
   "source": [
    "In this notebook, we will use model we trained to move jetBot smoothly on track. "
   ]
  },
  {
   "cell_type": "markdown",
   "metadata": {},
   "source": [
    "### Load Trained Model"
   ]
  },
  {
   "cell_type": "markdown",
   "metadata": {},
   "source": [
    "We will assume that you have already downloaded ``best_steering_model_xy.pth`` to work station as instructed in \"train_model.ipynb\" notebook. Now, you should upload model file to JetBot in to this notebooks's directory. Once that's finished there should be a file named ``best_steering_model_xy.pth`` in this notebook's directory."
   ]
  },
  {
   "cell_type": "markdown",
   "metadata": {},
   "source": [
    "> Please make sure the file has uploaded fully before calling the next cell"
   ]
  },
  {
   "cell_type": "markdown",
   "metadata": {},
   "source": [
    "Execute the code below to initialize the PyTorch model. This should look very familiar from the training notebook."
   ]
  },
  {
   "cell_type": "code",
   "execution_count": 1,
   "metadata": {},
   "outputs": [],
   "source": [
    "import torchvision\n",
    "import torch\n",
    "\n",
    "model = torchvision.models.resnet18(pretrained=False)\n",
    "model.fc = torch.nn.Linear(512, 2)"
   ]
  },
  {
   "cell_type": "markdown",
   "metadata": {},
   "source": [
    "Next, load the trained weights from the ``best_steering_model_xy.pth`` file that you uploaded."
   ]
  },
  {
   "cell_type": "code",
   "execution_count": 2,
   "metadata": {},
   "outputs": [
    {
     "data": {
      "text/plain": [
       "<All keys matched successfully>"
      ]
     },
     "execution_count": 2,
     "metadata": {},
     "output_type": "execute_result"
    }
   ],
   "source": [
    "model.load_state_dict(torch.load('best_steering_model_xy.pth'))"
   ]
  },
  {
   "cell_type": "markdown",
   "metadata": {},
   "source": [
    "Currently, the model weights are located on the CPU memory execute the code below to transfer to the GPU device."
   ]
  },
  {
   "cell_type": "code",
   "execution_count": 3,
   "metadata": {},
   "outputs": [],
   "source": [
    "device = torch.device('cuda')\n",
    "model = model.to(device)\n",
    "model = model.eval().half()"
   ]
  },
  {
   "cell_type": "markdown",
   "metadata": {},
   "source": [
    "### Creating the Pre-Processing Function"
   ]
  },
  {
   "cell_type": "markdown",
   "metadata": {},
   "source": [
    "We have now loaded our model, but there's a slight issue. The format that we trained our model doesnt exactly match the format of the camera. To do that, we need to do some preprocessing. This involves the following steps:\n",
    "\n",
    "1. Convert from HWC layout to CHW layout\n",
    "2. Normalize using same parameters as we did during training (our camera provides values in [0, 255] range and training loaded images in [0, 1] range so we need to scale by 255.0\n",
    "3. Transfer the data from CPU memory to GPU memory\n",
    "4. Add a batch dimension"
   ]
  },
  {
   "cell_type": "code",
   "execution_count": 4,
   "metadata": {},
   "outputs": [],
   "source": [
    "import torchvision.transforms as transforms\n",
    "import torch.nn.functional as F\n",
    "import cv2\n",
    "import PIL.Image\n",
    "import numpy as np\n",
    "\n",
    "mean = torch.Tensor([0.485, 0.456, 0.406]).cuda().half()\n",
    "std = torch.Tensor([0.229, 0.224, 0.225]).cuda().half()\n",
    "\n",
    "def preprocess(image):\n",
    "    image = PIL.Image.fromarray(image)\n",
    "    image = transforms.functional.to_tensor(image).to(device).half()\n",
    "    image.sub_(mean[:, None, None]).div_(std[:, None, None])\n",
    "    return image[None, ...]"
   ]
  },
  {
   "cell_type": "markdown",
   "metadata": {},
   "source": [
    "Awesome! We've now defined our pre-processing function which can convert images from the camera format to the neural network input format.\n",
    "\n",
    "Now, let's start and display our camera. You should be pretty familiar with this by now. "
   ]
  },
  {
   "cell_type": "code",
   "execution_count": 5,
   "metadata": {},
   "outputs": [
    {
     "data": {
      "application/vnd.jupyter.widget-view+json": {
       "model_id": "952ac59d9900437c83cb5ff39abbda53",
       "version_major": 2,
       "version_minor": 0
      },
      "text/plain": [
       "Image(value=b'\\xff\\xd8\\xff\\xe0\\x00\\x10JFIF\\x00\\x01\\x01\\x00\\x00\\x01\\x00\\x01\\x00\\x00\\xff\\xdb\\x00C\\x00\\x02\\x01\\x0…"
      ]
     },
     "metadata": {},
     "output_type": "display_data"
    }
   ],
   "source": [
    "from IPython.display import display\n",
    "import ipywidgets\n",
    "import traitlets\n",
    "from jetbot import Camera, bgr8_to_jpeg\n",
    "\n",
    "camera = Camera()\n",
    "\n",
    "image_widget = ipywidgets.Image()\n",
    "\n",
    "traitlets.dlink((camera, 'value'), (image_widget, 'value'), transform=bgr8_to_jpeg)\n",
    "\n",
    "display(image_widget)"
   ]
  },
  {
   "cell_type": "markdown",
   "metadata": {},
   "source": [
    "We'll also create our robot instance which we'll need to drive the motors."
   ]
  },
  {
   "cell_type": "code",
   "execution_count": 6,
   "metadata": {},
   "outputs": [],
   "source": [
    "from jetbot import Robot\n",
    "\n",
    "robot = Robot()"
   ]
  },
  {
   "cell_type": "markdown",
   "metadata": {},
   "source": [
    "Now, we will define sliders to control JetBot\n",
    "> Note: We have initialize the slider values for best known configurations, however these might not work for your dataset, therefore please increase or decrease the sliders according to your setup and environment\n",
    "\n",
    "1. Speed Control (speed_gain_slider): To start your JetBot increase ``speed_gain_slider`` \n",
    "2. Steering Gain Control (steering_gain_sloder): If you see JetBot is woblling, you need to reduce ``steering_gain_slider`` till it is smooth\n",
    "3. Steering Bias control (steering_bias_slider): If you see JetBot is biased towards extreme right or extreme left side of the track, you should control this slider till JetBot start following line or track in the center.  This accounts for motor biases as well as camera offsets\n",
    "\n",
    "> Note: You should play around above mentioned sliders with lower speed to get smooth JetBot road following behavior."
   ]
  },
  {
   "cell_type": "code",
   "execution_count": 7,
   "metadata": {},
   "outputs": [
    {
     "data": {
      "application/vnd.jupyter.widget-view+json": {
       "model_id": "448adc48bdff404c93e55077a5f2b666",
       "version_major": 2,
       "version_minor": 0
      },
      "text/plain": [
       "FloatSlider(value=0.0, description='speed gain', max=1.0, step=0.01)"
      ]
     },
     "metadata": {},
     "output_type": "display_data"
    },
    {
     "data": {
      "application/vnd.jupyter.widget-view+json": {
       "model_id": "b32a2fb7ed574010a2edf508fcbf618d",
       "version_major": 2,
       "version_minor": 0
      },
      "text/plain": [
       "FloatSlider(value=0.2, description='steering gain', max=1.0, step=0.01)"
      ]
     },
     "metadata": {},
     "output_type": "display_data"
    },
    {
     "data": {
      "application/vnd.jupyter.widget-view+json": {
       "model_id": "c9d8d9c632b64a4dbbb1098399f34d4f",
       "version_major": 2,
       "version_minor": 0
      },
      "text/plain": [
       "FloatSlider(value=0.0, description='steering kd', max=0.5, step=0.001)"
      ]
     },
     "metadata": {},
     "output_type": "display_data"
    },
    {
     "data": {
      "application/vnd.jupyter.widget-view+json": {
       "model_id": "481c1ba451dd48a7a930050b4892d192",
       "version_major": 2,
       "version_minor": 0
      },
      "text/plain": [
       "FloatSlider(value=0.0, description='steering bias', max=0.3, min=-0.3, step=0.01)"
      ]
     },
     "metadata": {},
     "output_type": "display_data"
    }
   ],
   "source": [
    "speed_gain_slider = ipywidgets.FloatSlider(min=0.0, max=1.0, step=0.01, description='speed gain')\n",
    "steering_gain_slider = ipywidgets.FloatSlider(min=0.0, max=1.0, step=0.01, value=0.2, description='steering gain')\n",
    "steering_dgain_slider = ipywidgets.FloatSlider(min=0.0, max=0.5, step=0.001, value=0.0, description='steering kd')\n",
    "steering_bias_slider = ipywidgets.FloatSlider(min=-0.3, max=0.3, step=0.01, value=0.0, description='steering bias')\n",
    "\n",
    "display(speed_gain_slider, steering_gain_slider, steering_dgain_slider, steering_bias_slider)"
   ]
  },
  {
   "cell_type": "markdown",
   "metadata": {},
   "source": [
    "Next, let's display some sliders that will let us see what JetBot is thinking.  The x and y sliders will display the predicted x, y values.\n",
    "\n",
    "The steering slider will display our estimated steering value.  Please remember, this value isn't the actual angle of the target, but simply a value that is\n",
    "nearly proportional.  When the actual angle is ``0``, this will be zero, and it will increase / decrease with the actual angle.  "
   ]
  },
  {
   "cell_type": "code",
   "execution_count": 8,
   "metadata": {},
   "outputs": [
    {
     "data": {
      "application/vnd.jupyter.widget-view+json": {
       "model_id": "12d177e1201b4fa5ac7ae1879c76b396",
       "version_major": 2,
       "version_minor": 0
      },
      "text/plain": [
       "HBox(children=(FloatSlider(value=0.0, description='y', max=1.0, orientation='vertical'), FloatSlider(value=0.0…"
      ]
     },
     "metadata": {},
     "output_type": "display_data"
    },
    {
     "data": {
      "application/vnd.jupyter.widget-view+json": {
       "model_id": "4aab5d4c20d54e1ea48c75ecaf56099e",
       "version_major": 2,
       "version_minor": 0
      },
      "text/plain": [
       "FloatSlider(value=0.0, description='x', max=1.0, min=-1.0)"
      ]
     },
     "metadata": {},
     "output_type": "display_data"
    },
    {
     "data": {
      "application/vnd.jupyter.widget-view+json": {
       "model_id": "25bb97e48ad54b80b714b2b1c6d91e91",
       "version_major": 2,
       "version_minor": 0
      },
      "text/plain": [
       "FloatSlider(value=0.0, description='steering', max=1.0, min=-1.0)"
      ]
     },
     "metadata": {},
     "output_type": "display_data"
    }
   ],
   "source": [
    "x_slider = ipywidgets.FloatSlider(min=-1.0, max=1.0, description='x')\n",
    "y_slider = ipywidgets.FloatSlider(min=0, max=1.0, orientation='vertical', description='y')\n",
    "steering_slider = ipywidgets.FloatSlider(min=-1.0, max=1.0, description='steering')\n",
    "speed_slider = ipywidgets.FloatSlider(min=0, max=1.0, orientation='vertical', description='speed')\n",
    "\n",
    "display(ipywidgets.HBox([y_slider, speed_slider]))\n",
    "display(x_slider, steering_slider)"
   ]
  },
  {
   "cell_type": "markdown",
   "metadata": {},
   "source": [
    "Next, we'll create a function that will get called whenever the camera's value changes. This function will do the following steps\n",
    "\n",
    "1. Pre-process the camera image\n",
    "2. Execute the neural network\n",
    "3. Compute the approximate steering value\n",
    "4. Control the motors using proportional / derivative control (PD)"
   ]
  },
  {
   "cell_type": "code",
   "execution_count": 9,
   "metadata": {},
   "outputs": [
    {
     "name": "stdout",
     "output_type": "stream",
     "text": [
      "x : -0.5361328125, y : 0.440673828125\n"
     ]
    }
   ],
   "source": [
    "angle = 0.0\n",
    "angle_last = 0.0\n",
    "x_offset = 0.5\n",
    "def execute(change):\n",
    "    global angle, angle_last\n",
    "    image = change['new']\n",
    "    xy = model(preprocess(image)).detach().float().cpu().numpy().flatten()\n",
    "    x = xy[0] + x_offset\n",
    "    y = (0.5 - xy[1]) / 2.0\n",
    "    # print(\"x : {}, y : {}\".format(x,y))\n",
    "    x_slider.value = x\n",
    "    y_slider.value = y\n",
    "    \n",
    "    speed_slider.value = speed_gain_slider.value\n",
    "    \n",
    "    angle = np.arctan2(x, y)\n",
    "    pid = angle * steering_gain_slider.value + (angle - angle_last) * steering_dgain_slider.value\n",
    "    angle_last = angle\n",
    "    \n",
    "    steering_slider.value = pid + steering_bias_slider.value\n",
    "    \n",
    "    robot.left_motor.value = max(min(speed_slider.value + steering_slider.value, 1.0), 0.0)\n",
    "    robot.right_motor.value = max(min(speed_slider.value - steering_slider.value, 1.0), 0.0)\n",
    "    #print(\"left : {}, right : {}\".format(robot.left_motor.value, robot.right_motor.value))\n",
    "    \n",
    "execute({'new': camera.value})"
   ]
  },
  {
   "cell_type": "markdown",
   "metadata": {},
   "source": [
    "Cool! We've created our neural network execution function, but now we need to attach it to the camera for processing.\n",
    "\n",
    "We accomplish that with the observe function."
   ]
  },
  {
   "cell_type": "markdown",
   "metadata": {},
   "source": [
    ">WARNING: This code will move the robot!! Please make sure your robot has clearance and it is on Lego or Track you have collected data on. The road follower should work, but the neural network is only as good as the data it's trained on!"
   ]
  },
  {
   "cell_type": "code",
   "execution_count": 10,
   "metadata": {},
   "outputs": [
    {
     "name": "stdout",
     "output_type": "stream",
     "text": [
      "x : -0.5361328125, y : 0.4404296875\n",
      "x : -0.53662109375, y : 0.440185546875\n",
      "x : -0.53662109375, y : 0.440673828125\n",
      "x : -0.53662109375, y : 0.44091796875\n",
      "x : -0.53662109375, y : 0.4405517578125\n",
      "x : -0.5361328125, y : 0.440673828125\n",
      "x : -0.537109375, y : 0.440673828125\n",
      "x : -0.53662109375, y : 0.4407958984375\n",
      "x : -0.5361328125, y : 0.4404296875\n",
      "x : -0.53662109375, y : 0.4404296875\n",
      "x : -0.537109375, y : 0.4404296875\n",
      "x : -0.53759765625, y : 0.43994140625\n",
      "x : -0.5380859375, y : 0.4385986328125\n",
      "x : -0.53759765625, y : 0.4388427734375\n",
      "x : -0.53759765625, y : 0.439208984375\n",
      "x : -0.5380859375, y : 0.4390869140625\n",
      "x : -0.53759765625, y : 0.439208984375\n",
      "x : -0.5380859375, y : 0.4390869140625\n",
      "x : -0.53759765625, y : 0.4385986328125\n",
      "x : -0.53759765625, y : 0.43896484375\n",
      "x : -0.53759765625, y : 0.4385986328125\n",
      "x : -0.5380859375, y : 0.439208984375\n",
      "x : -0.5390625, y : 0.43798828125\n",
      "x : -0.53857421875, y : 0.4388427734375\n",
      "x : -0.5390625, y : 0.4376220703125\n",
      "x : -0.5390625, y : 0.438232421875\n",
      "x : -0.53955078125, y : 0.437744140625\n",
      "x : -0.5390625, y : 0.43798828125\n",
      "x : -0.53955078125, y : 0.43798828125\n",
      "x : -0.5390625, y : 0.437744140625\n",
      "x : -0.5380859375, y : 0.437744140625\n",
      "x : -0.5390625, y : 0.437744140625\n",
      "x : -0.5390625, y : 0.437744140625\n",
      "x : -0.53857421875, y : 0.437744140625\n",
      "x : -0.53955078125, y : 0.43798828125\n",
      "x : -0.54052734375, y : 0.4375\n",
      "x : -0.5400390625, y : 0.4375\n",
      "x : -0.5400390625, y : 0.4376220703125\n",
      "x : -0.541015625, y : 0.4375\n",
      "x : -0.5400390625, y : 0.437744140625\n",
      "x : -0.53955078125, y : 0.437744140625\n",
      "x : -0.53955078125, y : 0.4375\n",
      "x : -0.5400390625, y : 0.4375\n",
      "x : -0.541015625, y : 0.4376220703125\n",
      "x : -0.541015625, y : 0.4375\n",
      "x : -0.5400390625, y : 0.43798828125\n",
      "x : -0.541015625, y : 0.4378662109375\n",
      "x : -0.5400390625, y : 0.4375\n",
      "x : -0.54150390625, y : 0.4376220703125\n",
      "x : -0.541015625, y : 0.436767578125\n",
      "x : -0.54150390625, y : 0.437255859375\n",
      "x : -0.54150390625, y : 0.437255859375\n",
      "x : -0.5419921875, y : 0.4371337890625\n",
      "x : -0.5419921875, y : 0.4373779296875\n",
      "x : -0.5419921875, y : 0.437255859375\n",
      "x : -0.541015625, y : 0.436767578125\n",
      "x : -0.5419921875, y : 0.4371337890625\n",
      "x : -0.5419921875, y : 0.436767578125\n",
      "x : -0.5419921875, y : 0.4366455078125\n",
      "x : -0.54150390625, y : 0.4368896484375\n",
      "x : -0.5419921875, y : 0.436767578125\n",
      "x : -0.5419921875, y : 0.436767578125\n",
      "x : -0.54296875, y : 0.436279296875\n",
      "x : -0.5419921875, y : 0.43701171875\n",
      "x : -0.54296875, y : 0.436767578125\n",
      "x : -0.54248046875, y : 0.4364013671875\n",
      "x : -0.54296875, y : 0.4366455078125\n",
      "x : -0.5419921875, y : 0.4366455078125\n",
      "x : -0.54248046875, y : 0.4364013671875\n",
      "x : -0.5419921875, y : 0.4368896484375\n",
      "x : -0.54248046875, y : 0.436767578125\n",
      "x : -0.54248046875, y : 0.4364013671875\n",
      "x : -0.5419921875, y : 0.4365234375\n",
      "x : -0.5419921875, y : 0.436279296875\n",
      "x : -0.54296875, y : 0.4364013671875\n",
      "x : -0.54296875, y : 0.4364013671875\n",
      "x : -0.54248046875, y : 0.4365234375\n",
      "x : -0.5439453125, y : 0.4361572265625\n",
      "x : -0.54296875, y : 0.4365234375\n",
      "x : -0.54345703125, y : 0.436279296875\n",
      "x : -0.54248046875, y : 0.4365234375\n",
      "x : -0.54296875, y : 0.4361572265625\n",
      "x : -0.54248046875, y : 0.4365234375\n",
      "x : -0.54345703125, y : 0.4366455078125\n",
      "x : -0.54296875, y : 0.436279296875\n",
      "x : -0.54345703125, y : 0.43603515625\n",
      "x : -0.54248046875, y : 0.436279296875\n",
      "x : -0.54248046875, y : 0.4365234375\n",
      "x : -0.54296875, y : 0.4366455078125\n",
      "x : -0.54296875, y : 0.4365234375\n",
      "x : -0.54345703125, y : 0.43603515625\n",
      "x : -0.54345703125, y : 0.4364013671875\n",
      "x : -0.54296875, y : 0.436279296875\n",
      "x : -0.54345703125, y : 0.4365234375\n",
      "x : -0.5439453125, y : 0.4365234375\n",
      "x : -0.54296875, y : 0.4364013671875\n",
      "x : -0.54345703125, y : 0.4361572265625\n",
      "x : -0.54296875, y : 0.435791015625\n",
      "x : -0.54296875, y : 0.4359130859375\n",
      "x : -0.54345703125, y : 0.436279296875\n",
      "x : -0.5439453125, y : 0.4359130859375\n",
      "x : -0.54296875, y : 0.43603515625\n",
      "x : -0.54296875, y : 0.435791015625\n",
      "x : -0.54345703125, y : 0.4364013671875\n",
      "x : -0.54345703125, y : 0.43603515625\n",
      "x : -0.5439453125, y : 0.4361572265625\n",
      "x : -0.54248046875, y : 0.4359130859375\n",
      "x : -0.54345703125, y : 0.4359130859375\n",
      "x : -0.54345703125, y : 0.4359130859375\n",
      "x : -0.54345703125, y : 0.43603515625\n",
      "x : -0.54345703125, y : 0.435546875\n",
      "x : -0.54443359375, y : 0.43603515625\n",
      "x : -0.54345703125, y : 0.43603515625\n",
      "x : -0.54248046875, y : 0.43603515625\n",
      "x : -0.5439453125, y : 0.435791015625\n",
      "x : -0.54443359375, y : 0.4359130859375\n",
      "x : -0.54443359375, y : 0.43603515625\n",
      "x : -0.54296875, y : 0.435791015625\n",
      "x : -0.54296875, y : 0.4361572265625\n",
      "x : -0.54345703125, y : 0.435546875\n",
      "x : -0.5439453125, y : 0.43603515625\n",
      "x : -0.54443359375, y : 0.43603515625\n",
      "x : -0.54296875, y : 0.435546875\n",
      "x : -0.54443359375, y : 0.435791015625\n",
      "x : -0.5439453125, y : 0.435791015625\n",
      "x : -0.54296875, y : 0.435791015625\n",
      "x : -0.54345703125, y : 0.435791015625\n",
      "x : -0.54345703125, y : 0.4359130859375\n",
      "x : -0.5439453125, y : 0.4359130859375\n",
      "x : -0.54296875, y : 0.435791015625\n",
      "x : -0.54345703125, y : 0.435546875\n",
      "x : -0.5439453125, y : 0.435791015625\n",
      "x : -0.54345703125, y : 0.4356689453125\n",
      "x : -0.5439453125, y : 0.4359130859375\n",
      "x : -0.5439453125, y : 0.43603515625\n",
      "x : -0.5439453125, y : 0.43603515625\n",
      "x : -0.544921875, y : 0.435302734375\n",
      "x : -0.54443359375, y : 0.435791015625\n",
      "x : -0.544921875, y : 0.4351806640625\n",
      "x : -0.54443359375, y : 0.4356689453125\n",
      "x : -0.544921875, y : 0.435546875\n",
      "x : -0.544921875, y : 0.4354248046875\n",
      "x : -0.54541015625, y : 0.4351806640625\n",
      "x : -0.54443359375, y : 0.435546875\n",
      "x : -0.54541015625, y : 0.435302734375\n",
      "x : -0.5439453125, y : 0.435546875\n",
      "x : -0.5439453125, y : 0.4356689453125\n",
      "x : -0.54443359375, y : 0.4356689453125\n",
      "x : -0.544921875, y : 0.4354248046875\n",
      "x : -0.544921875, y : 0.4354248046875\n",
      "x : -0.544921875, y : 0.435302734375\n",
      "x : -0.54443359375, y : 0.4354248046875\n",
      "x : -0.54443359375, y : 0.435302734375\n",
      "x : -0.544921875, y : 0.4354248046875\n",
      "x : -0.544921875, y : 0.435546875\n",
      "x : -0.544921875, y : 0.435302734375\n",
      "x : -0.544921875, y : 0.4354248046875\n",
      "x : -0.544921875, y : 0.435302734375\n",
      "x : -0.5458984375, y : 0.4349365234375\n",
      "x : -0.544921875, y : 0.435302734375\n",
      "x : -0.5458984375, y : 0.435302734375\n",
      "x : -0.544921875, y : 0.43505859375\n",
      "x : -0.5458984375, y : 0.4349365234375\n",
      "x : -0.54443359375, y : 0.4351806640625\n",
      "x : -0.54541015625, y : 0.43505859375\n",
      "x : -0.54541015625, y : 0.435302734375\n",
      "x : -0.5439453125, y : 0.4351806640625\n",
      "x : -0.544921875, y : 0.4351806640625\n",
      "x : -0.5458984375, y : 0.4354248046875\n",
      "x : -0.54541015625, y : 0.4349365234375\n",
      "x : -0.54541015625, y : 0.4349365234375\n",
      "x : -0.54443359375, y : 0.4349365234375\n",
      "x : -0.54541015625, y : 0.43505859375\n",
      "x : -0.54541015625, y : 0.4349365234375\n",
      "x : -0.5458984375, y : 0.4349365234375\n",
      "x : -0.54541015625, y : 0.4349365234375\n",
      "x : -0.544921875, y : 0.4351806640625\n",
      "x : -0.54541015625, y : 0.4351806640625\n",
      "x : -0.54541015625, y : 0.435302734375\n",
      "x : -0.544921875, y : 0.43505859375\n",
      "x : -0.54541015625, y : 0.43505859375\n",
      "x : -0.54541015625, y : 0.43505859375\n",
      "x : -0.5458984375, y : 0.434814453125\n",
      "x : -0.5458984375, y : 0.4349365234375\n",
      "x : -0.544921875, y : 0.43505859375\n",
      "x : -0.5458984375, y : 0.434814453125\n",
      "x : -0.54638671875, y : 0.43505859375\n",
      "x : -0.54541015625, y : 0.434814453125\n",
      "x : -0.54541015625, y : 0.43505859375\n",
      "x : -0.54541015625, y : 0.434814453125\n",
      "x : -0.5458984375, y : 0.434814453125\n",
      "x : -0.54541015625, y : 0.435302734375\n",
      "x : -0.544921875, y : 0.43505859375\n",
      "x : -0.54541015625, y : 0.4349365234375\n",
      "x : -0.54638671875, y : 0.4349365234375\n",
      "x : -0.54541015625, y : 0.43505859375\n",
      "x : -0.54541015625, y : 0.43505859375\n",
      "x : -0.544921875, y : 0.43505859375\n",
      "x : -0.54638671875, y : 0.4346923828125\n",
      "x : -0.546875, y : 0.4351806640625\n",
      "x : -0.5458984375, y : 0.434814453125\n",
      "x : -0.54638671875, y : 0.4349365234375\n",
      "x : -0.5458984375, y : 0.4351806640625\n",
      "x : -0.5458984375, y : 0.4351806640625\n",
      "x : -0.544921875, y : 0.4354248046875\n",
      "x : -0.544921875, y : 0.4354248046875\n",
      "x : -0.54541015625, y : 0.4354248046875\n",
      "x : -0.54541015625, y : 0.435302734375\n",
      "x : -0.54443359375, y : 0.43505859375\n",
      "x : -0.544921875, y : 0.435546875\n",
      "x : -0.5458984375, y : 0.434814453125\n",
      "x : -0.5458984375, y : 0.4351806640625\n",
      "x : -0.54638671875, y : 0.4349365234375\n",
      "x : -0.546875, y : 0.4349365234375\n",
      "x : -0.5458984375, y : 0.4346923828125\n",
      "x : -0.546875, y : 0.43505859375\n",
      "x : -0.54541015625, y : 0.4351806640625\n",
      "x : -0.54638671875, y : 0.4345703125\n",
      "x : -0.54541015625, y : 0.43505859375\n",
      "x : -0.54638671875, y : 0.434814453125\n",
      "x : -0.54541015625, y : 0.43505859375\n",
      "x : -0.54638671875, y : 0.43505859375\n",
      "x : -0.54638671875, y : 0.43603515625\n",
      "x : -0.51806640625, y : 0.441162109375\n",
      "x : -0.48876953125, y : 0.4456787109375\n",
      "x : -0.50732421875, y : 0.4454345703125\n",
      "x : -0.499267578125, y : 0.44384765625\n",
      "x : -0.49169921875, y : 0.4373779296875\n",
      "x : -0.492919921875, y : 0.4390869140625\n",
      "x : -0.50146484375, y : 0.4383544921875\n",
      "x : -0.52001953125, y : 0.435302734375\n",
      "x : -0.51953125, y : 0.4344482421875\n",
      "x : -0.52783203125, y : 0.4405517578125\n",
      "x : -0.5224609375, y : 0.4366455078125\n",
      "x : -0.5205078125, y : 0.43798828125\n",
      "x : -0.52001953125, y : 0.436279296875\n",
      "x : -0.51611328125, y : 0.437744140625\n",
      "x : -0.51611328125, y : 0.438720703125\n",
      "x : -0.51953125, y : 0.4356689453125\n",
      "x : -0.5126953125, y : 0.43798828125\n",
      "x : -0.5146484375, y : 0.437744140625\n",
      "x : -0.51708984375, y : 0.4371337890625\n",
      "x : -0.51953125, y : 0.4359130859375\n",
      "x : -0.5185546875, y : 0.43505859375\n",
      "x : -0.51904296875, y : 0.4366455078125\n",
      "x : -0.51708984375, y : 0.4390869140625\n",
      "x : -0.5185546875, y : 0.440185546875\n",
      "x : -0.5400390625, y : 0.4384765625\n",
      "x : -0.54052734375, y : 0.435546875\n",
      "x : -0.5322265625, y : 0.4361572265625\n",
      "x : -0.52783203125, y : 0.4388427734375\n",
      "x : -0.51123046875, y : 0.43408203125\n",
      "x : -0.52001953125, y : 0.4298095703125\n",
      "x : -0.513671875, y : 0.42431640625\n",
      "x : -0.51025390625, y : 0.4227294921875\n",
      "x : -0.50634765625, y : 0.42138671875\n",
      "x : -0.50732421875, y : 0.421142578125\n",
      "x : -0.51611328125, y : 0.4237060546875\n",
      "x : -0.51611328125, y : 0.42333984375\n",
      "x : -0.52099609375, y : 0.42578125\n",
      "x : -0.52197265625, y : 0.42578125\n",
      "x : -0.5224609375, y : 0.426513671875\n",
      "x : -0.53369140625, y : 0.4327392578125\n",
      "x : -0.5302734375, y : 0.4346923828125\n",
      "x : -0.52685546875, y : 0.4285888671875\n",
      "x : -0.5263671875, y : 0.428466796875\n",
      "x : -0.5263671875, y : 0.427978515625\n",
      "x : -0.5283203125, y : 0.4281005859375\n",
      "x : -0.5224609375, y : 0.42578125\n",
      "x : -0.5234375, y : 0.4263916015625\n",
      "x : -0.5234375, y : 0.427001953125\n",
      "x : -0.5224609375, y : 0.42822265625\n",
      "x : -0.5205078125, y : 0.4285888671875\n",
      "x : -0.5185546875, y : 0.4251708984375\n",
      "x : -0.52001953125, y : 0.4251708984375\n",
      "x : -0.5185546875, y : 0.42578125\n",
      "x : -0.51953125, y : 0.4251708984375\n"
     ]
    }
   ],
   "source": [
    "camera.observe(execute, names='value')"
   ]
  },
  {
   "cell_type": "markdown",
   "metadata": {},
   "source": [
    "Awesome! If your robot is plugged in it should now be generating new commands with each new camera frame. \n",
    "\n",
    "You can now place JetBot on  Lego or Track you have collected data on and see whether it can follow track.\n",
    "\n",
    "If you want to stop this behavior, you can unattach this callback by executing the code below."
   ]
  },
  {
   "cell_type": "code",
   "execution_count": null,
   "metadata": {},
   "outputs": [],
   "source": [
    "import time\n",
    "\n",
    "camera.unobserve(execute, names='value')\n",
    "\n",
    "time.sleep(0.1)  # add a small sleep to make sure frames have finished processing\n",
    "\n",
    "robot.stop()"
   ]
  },
  {
   "cell_type": "markdown",
   "metadata": {},
   "source": [
    "### Conclusion\n",
    "That's it for this live demo! Hopefully you had some fun seeing your JetBot moving smoothly on track follwing the road!!!\n",
    "\n",
    "If your JetBot wasn't following road very well, try to spot where it fails. The beauty is that we can collect more data for these failure scenarios and the JetBot should get even better :)"
   ]
  },
  {
   "cell_type": "code",
   "execution_count": null,
   "metadata": {},
   "outputs": [],
   "source": []
  }
 ],
 "metadata": {
  "kernelspec": {
   "display_name": "Python 3",
   "language": "python",
   "name": "python3"
  },
  "language_info": {
   "codemirror_mode": {
    "name": "ipython",
    "version": 3
   },
   "file_extension": ".py",
   "mimetype": "text/x-python",
   "name": "python",
   "nbconvert_exporter": "python",
   "pygments_lexer": "ipython3",
   "version": "3.6.9"
  }
 },
 "nbformat": 4,
 "nbformat_minor": 4
}
